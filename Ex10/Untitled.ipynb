{
 "cells": [
  {
   "cell_type": "code",
   "execution_count": 6,
   "id": "a1891ec1-164f-42d9-a939-fad45a180cb0",
   "metadata": {
    "scrolled": true
   },
   "outputs": [
    {
     "ename": "TypeError",
     "evalue": "expected str, bytes or os.PathLike object, not TextIOWrapper",
     "output_type": "error",
     "traceback": [
      "\u001b[1;31m---------------------------------------------------------------------------\u001b[0m",
      "\u001b[1;31mTypeError\u001b[0m                                 Traceback (most recent call last)",
      "Cell \u001b[1;32mIn[6], line 7\u001b[0m\n\u001b[0;32m      4\u001b[0m \u001b[38;5;66;03m# Load the ARFF file\u001b[39;00m\n\u001b[0;32m      5\u001b[0m \u001b[38;5;28;01mwith\u001b[39;00m \u001b[38;5;28mopen\u001b[39m(\u001b[38;5;124m'\u001b[39m\u001b[38;5;124meb.arff\u001b[39m\u001b[38;5;124m'\u001b[39m, \u001b[38;5;124m'\u001b[39m\u001b[38;5;124mr\u001b[39m\u001b[38;5;124m'\u001b[39m, encoding\u001b[38;5;241m=\u001b[39m\u001b[38;5;124m'\u001b[39m\u001b[38;5;124mutf-8\u001b[39m\u001b[38;5;124m'\u001b[39m) \u001b[38;5;28;01mas\u001b[39;00m f:\n\u001b[0;32m      6\u001b[0m     \u001b[38;5;66;03m# Convert generator to dictionary\u001b[39;00m\n\u001b[1;32m----> 7\u001b[0m     data \u001b[38;5;241m=\u001b[39m \u001b[38;5;28;43mdict\u001b[39;49m\u001b[43m(\u001b[49m\u001b[43marff\u001b[49m\u001b[38;5;241;43m.\u001b[39;49m\u001b[43mload\u001b[49m\u001b[43m(\u001b[49m\u001b[43mf\u001b[49m\u001b[43m)\u001b[49m\u001b[43m)\u001b[49m\n\u001b[0;32m      9\u001b[0m \u001b[38;5;66;03m# Now you can access elements properly\u001b[39;00m\n\u001b[0;32m     10\u001b[0m df \u001b[38;5;241m=\u001b[39m pd\u001b[38;5;241m.\u001b[39mDataFrame(data[\u001b[38;5;124m'\u001b[39m\u001b[38;5;124mdata\u001b[39m\u001b[38;5;124m'\u001b[39m], columns\u001b[38;5;241m=\u001b[39m[attr[\u001b[38;5;241m0\u001b[39m] \u001b[38;5;28;01mfor\u001b[39;00m attr \u001b[38;5;129;01min\u001b[39;00m data[\u001b[38;5;124m'\u001b[39m\u001b[38;5;124mattributes\u001b[39m\u001b[38;5;124m'\u001b[39m]])\n",
      "File \u001b[1;32m~\\.conda\\envs\\Main\\lib\\site-packages\\arff\\__init__.py:239\u001b[0m, in \u001b[0;36mload\u001b[1;34m(fname)\u001b[0m\n\u001b[0;32m    238\u001b[0m \u001b[38;5;28;01mdef\u001b[39;00m \u001b[38;5;21mload\u001b[39m(fname):\n\u001b[1;32m--> 239\u001b[0m     \u001b[38;5;28;01mwith\u001b[39;00m \u001b[38;5;28;43mopen\u001b[39;49m\u001b[43m(\u001b[49m\u001b[43mfname\u001b[49m\u001b[43m,\u001b[49m\u001b[43m \u001b[49m\u001b[38;5;124;43m'\u001b[39;49m\u001b[38;5;124;43mr\u001b[39;49m\u001b[38;5;124;43m'\u001b[39;49m\u001b[43m)\u001b[49m \u001b[38;5;28;01mas\u001b[39;00m fhand:\n\u001b[0;32m    240\u001b[0m         \u001b[38;5;28;01mfor\u001b[39;00m item \u001b[38;5;129;01min\u001b[39;00m Reader(fhand):\n\u001b[0;32m    241\u001b[0m             \u001b[38;5;28;01myield\u001b[39;00m item\n",
      "\u001b[1;31mTypeError\u001b[0m: expected str, bytes or os.PathLike object, not TextIOWrapper"
     ]
    }
   ],
   "source": [
    "import arff\n",
    "import pandas as pd\n",
    "\n",
    "# Load the ARFF file\n",
    "with open('eb.arff', 'r', encoding='utf-8') as f:\n",
    "    # Convert generator to dictionary\n",
    "    data = dict(arff.load(f))\n",
    "\n",
    "# Now you can access elements properly\n",
    "df = pd.DataFrame(data['data'], columns=[attr[0] for attr in data['attributes']])"
   ]
  },
  {
   "cell_type": "code",
   "execution_count": 7,
   "id": "576c774d-3081-4602-8291-51cc0013586f",
   "metadata": {
    "scrolled": true
   },
   "outputs": [
    {
     "ename": "ParseArffError",
     "evalue": "unknown attribute , 'University' }",
     "output_type": "error",
     "traceback": [
      "\u001b[1;31m---------------------------------------------------------------------------\u001b[0m",
      "\u001b[1;31mParseArffError\u001b[0m                            Traceback (most recent call last)",
      "Cell \u001b[1;32mIn[7], line 2\u001b[0m\n\u001b[0;32m      1\u001b[0m \u001b[38;5;28;01mfrom\u001b[39;00m \u001b[38;5;21;01mscipy\u001b[39;00m\u001b[38;5;21;01m.\u001b[39;00m\u001b[38;5;21;01mio\u001b[39;00m \u001b[38;5;28;01mimport\u001b[39;00m arff\n\u001b[1;32m----> 2\u001b[0m data, meta \u001b[38;5;241m=\u001b[39m \u001b[43marff\u001b[49m\u001b[38;5;241;43m.\u001b[39;49m\u001b[43mloadarff\u001b[49m\u001b[43m(\u001b[49m\u001b[38;5;124;43m'\u001b[39;49m\u001b[38;5;124;43meb.arff\u001b[39;49m\u001b[38;5;124;43m'\u001b[39;49m\u001b[43m)\u001b[49m\n\u001b[0;32m      3\u001b[0m df \u001b[38;5;241m=\u001b[39m pd\u001b[38;5;241m.\u001b[39mDataFrame(data)\n",
      "File \u001b[1;32m~\\.conda\\envs\\Main\\lib\\site-packages\\scipy\\io\\arff\\_arffread.py:804\u001b[0m, in \u001b[0;36mloadarff\u001b[1;34m(f)\u001b[0m\n\u001b[0;32m    802\u001b[0m     ofile \u001b[38;5;241m=\u001b[39m \u001b[38;5;28mopen\u001b[39m(f)\n\u001b[0;32m    803\u001b[0m \u001b[38;5;28;01mtry\u001b[39;00m:\n\u001b[1;32m--> 804\u001b[0m     \u001b[38;5;28;01mreturn\u001b[39;00m \u001b[43m_loadarff\u001b[49m\u001b[43m(\u001b[49m\u001b[43mofile\u001b[49m\u001b[43m)\u001b[49m\n\u001b[0;32m    805\u001b[0m \u001b[38;5;28;01mfinally\u001b[39;00m:\n\u001b[0;32m    806\u001b[0m     \u001b[38;5;28;01mif\u001b[39;00m ofile \u001b[38;5;129;01mis\u001b[39;00m \u001b[38;5;129;01mnot\u001b[39;00m f:  \u001b[38;5;66;03m# only close what we opened\u001b[39;00m\n",
      "File \u001b[1;32m~\\.conda\\envs\\Main\\lib\\site-packages\\scipy\\io\\arff\\_arffread.py:813\u001b[0m, in \u001b[0;36m_loadarff\u001b[1;34m(ofile)\u001b[0m\n\u001b[0;32m    810\u001b[0m \u001b[38;5;28;01mdef\u001b[39;00m \u001b[38;5;21m_loadarff\u001b[39m(ofile):\n\u001b[0;32m    811\u001b[0m     \u001b[38;5;66;03m# Parse the header file\u001b[39;00m\n\u001b[0;32m    812\u001b[0m     \u001b[38;5;28;01mtry\u001b[39;00m:\n\u001b[1;32m--> 813\u001b[0m         rel, attr \u001b[38;5;241m=\u001b[39m \u001b[43mread_header\u001b[49m\u001b[43m(\u001b[49m\u001b[43mofile\u001b[49m\u001b[43m)\u001b[49m\n\u001b[0;32m    814\u001b[0m     \u001b[38;5;28;01mexcept\u001b[39;00m \u001b[38;5;167;01mValueError\u001b[39;00m \u001b[38;5;28;01mas\u001b[39;00m e:\n\u001b[0;32m    815\u001b[0m         msg \u001b[38;5;241m=\u001b[39m \u001b[38;5;124m\"\u001b[39m\u001b[38;5;124mError while parsing header, error was: \u001b[39m\u001b[38;5;124m\"\u001b[39m \u001b[38;5;241m+\u001b[39m \u001b[38;5;28mstr\u001b[39m(e)\n",
      "File \u001b[1;32m~\\.conda\\envs\\Main\\lib\\site-packages\\scipy\\io\\arff\\_arffread.py:640\u001b[0m, in \u001b[0;36mread_header\u001b[1;34m(ofile)\u001b[0m\n\u001b[0;32m    638\u001b[0m isattr \u001b[38;5;241m=\u001b[39m r_attribute\u001b[38;5;241m.\u001b[39mmatch(i)\n\u001b[0;32m    639\u001b[0m \u001b[38;5;28;01mif\u001b[39;00m isattr:\n\u001b[1;32m--> 640\u001b[0m     attr, i \u001b[38;5;241m=\u001b[39m \u001b[43mtokenize_attribute\u001b[49m\u001b[43m(\u001b[49m\u001b[43mofile\u001b[49m\u001b[43m,\u001b[49m\u001b[43m \u001b[49m\u001b[43mi\u001b[49m\u001b[43m)\u001b[49m\n\u001b[0;32m    641\u001b[0m     attributes\u001b[38;5;241m.\u001b[39mappend(attr)\n\u001b[0;32m    642\u001b[0m \u001b[38;5;28;01melse\u001b[39;00m:\n",
      "File \u001b[1;32m~\\.conda\\envs\\Main\\lib\\site-packages\\scipy\\io\\arff\\_arffread.py:563\u001b[0m, in \u001b[0;36mtokenize_attribute\u001b[1;34m(iterable, attribute)\u001b[0m\n\u001b[0;32m    560\u001b[0m \u001b[38;5;28;01melse\u001b[39;00m:\n\u001b[0;32m    561\u001b[0m     \u001b[38;5;28;01mraise\u001b[39;00m \u001b[38;5;167;01mValueError\u001b[39;00m(\u001b[38;5;124mf\u001b[39m\u001b[38;5;124m\"\u001b[39m\u001b[38;5;124mFirst line unparsable: \u001b[39m\u001b[38;5;132;01m{\u001b[39;00msattr\u001b[38;5;132;01m}\u001b[39;00m\u001b[38;5;124m\"\u001b[39m)\n\u001b[1;32m--> 563\u001b[0m attribute \u001b[38;5;241m=\u001b[39m \u001b[43mto_attribute\u001b[49m\u001b[43m(\u001b[49m\u001b[43mname\u001b[49m\u001b[43m,\u001b[49m\u001b[43m \u001b[49m\u001b[38;5;28;43mtype\u001b[39;49m\u001b[43m)\u001b[49m\n\u001b[0;32m    565\u001b[0m \u001b[38;5;28;01mif\u001b[39;00m \u001b[38;5;28mtype\u001b[39m\u001b[38;5;241m.\u001b[39mlower() \u001b[38;5;241m==\u001b[39m \u001b[38;5;124m'\u001b[39m\u001b[38;5;124mrelational\u001b[39m\u001b[38;5;124m'\u001b[39m:\n\u001b[0;32m    566\u001b[0m     next_item \u001b[38;5;241m=\u001b[39m read_relational_attribute(iterable, attribute, next_item)\n",
      "File \u001b[1;32m~\\.conda\\envs\\Main\\lib\\site-packages\\scipy\\io\\arff\\_arffread.py:399\u001b[0m, in \u001b[0;36mto_attribute\u001b[1;34m(name, attr_string)\u001b[0m\n\u001b[0;32m    396\u001b[0m     \u001b[38;5;28;01mif\u001b[39;00m attr \u001b[38;5;129;01mis\u001b[39;00m \u001b[38;5;129;01mnot\u001b[39;00m \u001b[38;5;28;01mNone\u001b[39;00m:\n\u001b[0;32m    397\u001b[0m         \u001b[38;5;28;01mreturn\u001b[39;00m attr\n\u001b[1;32m--> 399\u001b[0m \u001b[38;5;28;01mraise\u001b[39;00m ParseArffError(\u001b[38;5;124mf\u001b[39m\u001b[38;5;124m\"\u001b[39m\u001b[38;5;124munknown attribute \u001b[39m\u001b[38;5;132;01m{\u001b[39;00mattr_string\u001b[38;5;132;01m}\u001b[39;00m\u001b[38;5;124m\"\u001b[39m)\n",
      "\u001b[1;31mParseArffError\u001b[0m: unknown attribute , 'University' }"
     ]
    }
   ],
   "source": [
    "from scipy.io import arff\n",
    "data, meta = arff.loadarff('eb.arff')\n",
    "df = pd.DataFrame(data)"
   ]
  },
  {
   "cell_type": "code",
   "execution_count": 8,
   "id": "32a2c383-dcf4-47d7-b619-1d68b0518243",
   "metadata": {},
   "outputs": [
    {
     "name": "stdout",
     "output_type": "stream",
     "text": [
      "['% Dataset Prepared By K.Kalyani TamilNadu Electricity Board Hourly Readings\\n', '%\\n', '%\\n', '\\t\\t\\t\\t\\t\\t\\n', '\\n', '@relation Electricity-board\\n', '@attribute ForkVA real\\n', '@attribute ForkW real\\n', \"@attribute 'Type' {  'Bank' , 'AutomobileIndustry' , 'BpoIndustry' , 'CementIndustry' , 'Farmers1' , 'Farmers2' , 'HealthCareResources' , 'TextileIndustry' , 'PoultryIndustry' , 'Residential(individual)' , 'Residential(Apartments)' , 'FoodIndustry' , 'ChemicalIndustry' , 'Handlooms' , 'FertilizerIndustry' ,'Hostel' ,'Hospital' , 'Supermarket', 'Theatre' , 'University' }\\n\", \"@attribute Sector {'1'}\\n\", \"@attribute 'ServiceID' {  '671004572' , '457008451' , '581000256' , '775001231' , '455007891' , '562321452' , '450023897' , '785200123' , '568730109' , '609822556' , '894536726' , '978045321' , '5783456902' , '819034567' , '945678934','486589321' , '389457902' , '256835671' , '198346752' , '286130985' , '374897109' , '498710889' , '693421673' , '785643218' , '785643223' , '652132542' , '450012212' , '548542561' , '524100231' , '600124212', '800145754' }\\n\", '@data\\n', '0.865935636652813,0.143762528699181,Bank,1,671004572\\n', '0.12980418301167,0.088929797893535,Bank,1,671004572\\n', '0.061801486824636,0.552047074067644,Bank,1,671004572\\n', '0.099116455214686,0.848172019260837,Bank,1,671004572\\n', '0.20570390723589,0.624722465632105,Bank,1,671004572\\n', '0.164028974259382,0.038167963920294,Bank,1,671004572\\n', '0.61983409749181,0.079610680955383,Bank,1,671004572\\n', '0.011324217122891,0.71847239966481,Bank,1,671004572\\n']\n"
     ]
    }
   ],
   "source": [
    "with open('eb.arff', 'r', encoding='utf-8') as f:\n",
    "    print(f.readlines()[:20])  # Show first 20 lines"
   ]
  },
  {
   "cell_type": "code",
   "execution_count": null,
   "id": "95adfc09-2876-41f6-a6dc-dafeb37ce5e9",
   "metadata": {},
   "outputs": [],
   "source": []
  }
 ],
 "metadata": {
  "kernelspec": {
   "display_name": "Python 3 (ipykernel)",
   "language": "python",
   "name": "python3"
  },
  "language_info": {
   "codemirror_mode": {
    "name": "ipython",
    "version": 3
   },
   "file_extension": ".py",
   "mimetype": "text/x-python",
   "name": "python",
   "nbconvert_exporter": "python",
   "pygments_lexer": "ipython3",
   "version": "3.10.16"
  }
 },
 "nbformat": 4,
 "nbformat_minor": 5
}
