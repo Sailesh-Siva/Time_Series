{
 "cells": [
  {
   "cell_type": "code",
   "execution_count": 4,
   "id": "6ad33b12-44e3-4844-bc17-69f531c3fa85",
   "metadata": {},
   "outputs": [
    {
     "name": "stderr",
     "output_type": "stream",
     "text": [
      "\n",
      "KeyboardInterrupt\n",
      "\n"
     ]
    }
   ],
   "source": [
    "import pandas as pd\n",
    "import numpy as np\n",
    "from statsmodels.tsa.arima.model import ARIMA\n",
    "from statsmodels.tsa.stattools import adfuller\n",
    "\n",
    "# Load Data\n",
    "train_data = pd.read_csv(r'train.csv')\n",
    "\n",
    "# Convert date to datetime and set as index\n",
    "train_data['date'] = pd.to_datetime(train_data['date'])\n",
    "train_data.set_index('date', inplace=True)\n",
    "\n",
    "# Extract sales column\n",
    "sales = train_data['sales']\n",
    "\n",
    "# Perform ADF test\n",
    "result = adfuller(sales)\n",
    "print('ADF Statistic:', result[0])\n",
    "print('p-value:', result[1])\n",
    "\n",
    "# Check if p-value is less than 0.05 to confirm stationarity\n",
    "if result[1] < 0.05:\n",
    "    print(\"The series is likely stationary.\")\n",
    "else:\n",
    "    print(\"The series is likely non-stationary.\")\n",
    "\n",
    "# Difference data if necessary\n",
    "if result[1] >= 0.05:\n",
    "    sales_diff = sales.diff().dropna()\n",
    "else:\n",
    "    sales_diff = sales\n",
    "\n",
    "# Fit ARIMA model\n",
    "# Example order (1,0,1) - adjust based on your data\n",
    "arima_model = ARIMA(sales_diff, order=(1,0,1))\n",
    "arima_results = arima_model.fit()\n",
    "\n",
    "print(arima_results.summary())\n",
    "\n",
    "# Forecast\n",
    "forecast_steps = 30  # Number of steps to forecast\n",
    "forecast, stderr, conf_int = arima_results.forecast(steps=forecast_steps)\n",
    "\n",
    "# Plot forecast\n",
    "import matplotlib.pyplot as plt\n",
    "\n",
    "plt.figure(figsize=(10,6))\n",
    "plt.plot(sales_diff, label='Original')\n",
    "plt.plot(np.arange(len(sales_diff), len(sales_diff)+forecast_steps), forecast, label='Forecast', linestyle='--', marker='o')\n",
    "plt.fill_between(np.arange(len(sales_diff), len(sales_diff)+forecast_steps), conf_int[:,0], conf_int[:,1], color='pink', alpha=0.3)\n",
    "plt.legend()\n",
    "plt.show()\n"
   ]
  },
  {
   "cell_type": "code",
   "execution_count": null,
   "id": "04a12fca-3015-4902-a88f-eca704d66a59",
   "metadata": {},
   "outputs": [],
   "source": [
    "# Perform ADF test\n",
    "result = adfuller(sales)\n",
    "print('ADF Statistic:', result[0])\n",
    "print('p-value:', result[1])\n",
    "\n",
    "# Check if p-value is less than 0.05 to confirm stationarity\n",
    "if result[1] < 0.05:\n",
    "    print(\"The series is likely stationary.\")\n",
    "else:\n",
    "    print(\"The series is likely non-stationary.\")\n"
   ]
  },
  {
   "cell_type": "code",
   "execution_count": null,
   "id": "5de9ca66-da06-4c30-9e09-7119366daeb4",
   "metadata": {},
   "outputs": [],
   "source": [
    "# Determine number of differences needed for stationarity\n",
    "n_diffs = ndiffs(sales)\n",
    "print(f\"Number of differences needed: {n_diffs}\")\n",
    "\n",
    "# Difference data if necessary\n",
    "if n_diffs > 0:\n",
    "    sales_diff = sales.diff(n_diffs).dropna()\n",
    "else:\n",
    "    sales_diff = sales\n"
   ]
  },
  {
   "cell_type": "code",
   "execution_count": null,
   "id": "1746cb1f-6740-4c97-bacc-2d230b821d66",
   "metadata": {},
   "outputs": [],
   "source": [
    "# Fit AR model\n",
    "ar_model = AutoReg(sales_diff, lags=1)  # Adjust lags as needed\n",
    "ar_results = ar_model.fit()\n",
    "print(ar_results.summary())\n"
   ]
  },
  {
   "cell_type": "code",
   "execution_count": null,
   "id": "54636d85-3b35-420a-80f1-8c34f195239e",
   "metadata": {},
   "outputs": [],
   "source": [
    "# Fit ARIMA model\n",
    "arima_model = ARIMA(sales_diff, order=(1,0,1))  # Adjust order as needed\n",
    "arima_results = arima_model.fit()\n",
    "print(arima_results.summary())\n"
   ]
  },
  {
   "cell_type": "code",
   "execution_count": null,
   "id": "9f6545a3-e194-48b8-b0d0-e72e9c74ff3a",
   "metadata": {},
   "outputs": [],
   "source": [
    "# Forecast using ARIMA model\n",
    "forecast_steps = 30  # Number of steps to forecast\n",
    "forecast, stderr, conf_int = arima_results.forecast(steps=forecast_steps)\n",
    "\n",
    "# Plot forecast\n",
    "plt.figure(figsize=(10,6))\n",
    "plt.plot(sales_diff, label='Original')\n",
    "plt.plot(np.arange(len(sales_diff), len(sales_diff)+forecast_steps), forecast, label='Forecast', linestyle='--', marker='o')\n",
    "plt.fill_between(np.arange(len(sales_diff), len(sales_diff)+forecast_steps), conf_int[:,0], conf_int[:,1], color='pink', alpha=0.3)\n",
    "plt.legend()\n",
    "plt.show()\n"
   ]
  },
  {
   "cell_type": "code",
   "execution_count": null,
   "id": "08c35c38-864c-4cfd-a652-30abe260928d",
   "metadata": {},
   "outputs": [],
   "source": []
  }
 ],
 "metadata": {
  "kernelspec": {
   "display_name": "Python 3 (ipykernel)",
   "language": "python",
   "name": "python3"
  },
  "language_info": {
   "codemirror_mode": {
    "name": "ipython",
    "version": 3
   },
   "file_extension": ".py",
   "mimetype": "text/x-python",
   "name": "python",
   "nbconvert_exporter": "python",
   "pygments_lexer": "ipython3",
   "version": "3.10.16"
  }
 },
 "nbformat": 4,
 "nbformat_minor": 5
}
